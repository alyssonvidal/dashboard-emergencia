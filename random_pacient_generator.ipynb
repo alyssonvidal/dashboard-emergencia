{
 "cells": [
  {
   "cell_type": "code",
   "execution_count": 1,
   "id": "12f3f2f1",
   "metadata": {},
   "outputs": [],
   "source": [
    "import pandas as pd\n",
    "import numpy as np"
   ]
  },
  {
   "cell_type": "code",
   "execution_count": 14,
   "id": "ad34d706",
   "metadata": {},
   "outputs": [],
   "source": [
    "df_raw = pd.read_csv('Hospital ER.csv')"
   ]
  },
  {
   "cell_type": "code",
   "execution_count": 15,
   "id": "3f59e00b",
   "metadata": {},
   "outputs": [],
   "source": [
    "df = df_raw.copy()"
   ]
  },
  {
   "cell_type": "code",
   "execution_count": 16,
   "id": "d6998916",
   "metadata": {},
   "outputs": [
    {
     "data": {
      "text/plain": [
       "Index(['date', 'patient_id', 'patient_gender', 'patient_age',\n",
       "       'patient_sat_score', 'patient_first_inital', 'patient_last_name',\n",
       "       'patient_race', 'patient_admin_flag', 'patient_waittime',\n",
       "       'department_referral'],\n",
       "      dtype='object')"
      ]
     },
     "execution_count": 16,
     "metadata": {},
     "output_type": "execute_result"
    }
   ],
   "source": [
    "df.columns"
   ]
  },
  {
   "cell_type": "code",
   "execution_count": 17,
   "id": "69b99ee1",
   "metadata": {},
   "outputs": [],
   "source": [
    "df = df.rename(columns={'date': 'DTHR_ATENDIMENTO', \n",
    "                        'patient_gender': 'SEXO',\n",
    "                        'patient_age': 'IDADE',\n",
    "                        'patient_waittime' : 'TEMPO_ESPERA',\n",
    "                        'patient_sat_score': 'SATISFACAO'\n",
    "                       })"
   ]
  },
  {
   "cell_type": "code",
   "execution_count": 18,
   "id": "52eeaf15",
   "metadata": {},
   "outputs": [],
   "source": [
    "comprimento_paciente = 20\n",
    "\n",
    "# Criando alguns valores aleatórios iniciais\n",
    "valores_aleatorios_iniciais = [''.join(np.random.choice(list('ABCDEFGHIJKLMNOPQRSTUVWXYZ0123456789'), comprimento_paciente)) for _ in range(len(df))]\n",
    "\n",
    "# Ajustando para que apenas 10% dos valores sejam repetidos\n",
    "percentual_repeticao = 0.1\n",
    "quantidade_repeticoes = int(len(df) * percentual_repeticao)\n",
    "\n",
    "# Escolhendo aleatoriamente quais valores serão repetidos\n",
    "indices_repeticao = np.random.choice(len(df), quantidade_repeticoes, replace=False)\n",
    "\n",
    "# Criando a lista final de valores com alguns repetidos\n",
    "valores_aleatorios = valores_aleatorios_iniciais.copy()\n",
    "for indice in indices_repeticao:\n",
    "    valores_aleatorios[indice] = np.random.choice(valores_aleatorios_iniciais)\n",
    "\n",
    "# Adicionando a coluna 'Paciente' ao DataFrame\n",
    "df['PACIENTE'] = valores_aleatorios"
   ]
  },
  {
   "cell_type": "code",
   "execution_count": 19,
   "id": "16110d48",
   "metadata": {},
   "outputs": [
    {
     "data": {
      "text/plain": [
       "822"
      ]
     },
     "execution_count": 19,
     "metadata": {},
     "output_type": "execute_result"
    }
   ],
   "source": [
    "df['PACIENTE'].duplicated().sum()"
   ]
  },
  {
   "cell_type": "code",
   "execution_count": 20,
   "id": "23152d9a",
   "metadata": {},
   "outputs": [],
   "source": [
    "valores_possiveis = ['Emergência', 'Muito Urgente', 'Urgente', 'Pouco Urgente', 'Não Urgente']\n",
    "\n",
    "# Definir as probabilidades correspondentes a cada valor\n",
    "probabilidades = [0.1, 0.2, 0.4, 0.2, 0.1]  # Lembre-se de que as probabilidades devem ser normalizadas (soma total igual a 1)\n",
    "\n",
    "# Adicionar a nova coluna com valores aleatórios e probabilidades\n",
    "df['CLASSIFICACAO'] = np.random.choice(valores_possiveis, size=len(df), p=probabilidades)"
   ]
  },
  {
   "cell_type": "code",
   "execution_count": 21,
   "id": "f3cfe41d",
   "metadata": {},
   "outputs": [],
   "source": [
    "valores_possiveis = ['Demanda Espontânea', 'Regulação', np.nan]\n",
    "\n",
    "# Definir as probabilidades correspondentes a cada valor\n",
    "probabilidades = [0.9, 0.05, 0.05]  # Lembre-se de que as probabilidades devem ser normalizadas (soma total igual a 1)\n",
    "\n",
    "# Adicionar a nova coluna com valores aleatórios e probabilidades\n",
    "df['TIPO_ADMISSAO'] = np.random.choice(valores_possiveis, size=len(df), p=probabilidades)"
   ]
  },
  {
   "cell_type": "code",
   "execution_count": 22,
   "id": "1e504b96",
   "metadata": {},
   "outputs": [],
   "source": [
    "valores_possiveis = ['Alta Médica', 'Evasão', 'Óbito', 'Desistência', 'Transferência Hospital']\n",
    "\n",
    "# Definir as probabilidades correspondentes a cada valor\n",
    "probabilidades = [0.92, 0.01, 0.02, 0.02, 0.03]  # Lembre-se de que as probabilidades devem ser normalizadas (soma total igual a 1)\n",
    "\n",
    "# Adicionar a nova coluna com valores aleatórios e probabilidades\n",
    "df['DESFECHO'] = np.random.choice(valores_possiveis, size=len(df), p=probabilidades)"
   ]
  },
  {
   "cell_type": "code",
   "execution_count": 23,
   "id": "f7db2e1e",
   "metadata": {},
   "outputs": [],
   "source": [
    "valores_possiveis = ['Clinica Médica', 'Ortopedia', 'Neurologia', 'Cardiologia', 'Gastroenterologia', 'Nefrologia']\n",
    "\n",
    "# Definir as probabilidades correspondentes a cada valor\n",
    "probabilidades = [0.65, 0.2, 0.05, 0.05, 0.04, 0.01]  # Lembre-se de que as probabilidades devem ser normalizadas (soma total igual a 1)\n",
    "\n",
    "# Adicionar a nova coluna com valores aleatórios e probabilidades\n",
    "df['ESPECIALIDADE'] = np.random.choice(valores_possiveis, size=len(df), p=probabilidades)"
   ]
  },
  {
   "cell_type": "code",
   "execution_count": 24,
   "id": "c3577c5f",
   "metadata": {},
   "outputs": [
    {
     "name": "stderr",
     "output_type": "stream",
     "text": [
      "C:\\Users\\Alysson\\AppData\\Local\\Temp\\ipykernel_7840\\3917818249.py:1: SettingWithCopyWarning: \n",
      "A value is trying to be set on a copy of a slice from a DataFrame.\n",
      "Try using .loc[row_indexer,col_indexer] = value instead\n",
      "\n",
      "See the caveats in the documentation: https://pandas.pydata.org/pandas-docs/stable/user_guide/indexing.html#returning-a-view-versus-a-copy\n",
      "  df.loc[df['IDADE'] <=1]['ESPECIALIDADE'] = 'Neonatologia'\n"
     ]
    }
   ],
   "source": [
    "df.loc[df['IDADE'] <=1]['ESPECIALIDADE'] = 'Neonatologia'"
   ]
  },
  {
   "cell_type": "code",
   "execution_count": 25,
   "id": "e54a04d8",
   "metadata": {},
   "outputs": [],
   "source": [
    "subset_df = df.loc[(df['IDADE'] > 1) & (df['IDADE'] < 10)].copy()\n",
    "subset_df['ESPECIALIDADE'] = 'Pediatria'\n",
    "\n",
    "# Atualizando o DataFrame original com os valores atualizados\n",
    "df.loc[(df['IDADE'] > 1) & (df['IDADE'] < 10)] = subset_df"
   ]
  },
  {
   "cell_type": "code",
   "execution_count": 26,
   "id": "2af46ac2",
   "metadata": {},
   "outputs": [],
   "source": [
    "probabilidade_cirurgia_geral = 0.5\n",
    "\n",
    "# Aplicando a lógica de probabilidade\n",
    "mask_emergencia = df['CLASSIFICACAO'] == 'Emergência'\n",
    "df.loc[mask_emergencia, 'ESPECIALIDADE'] = np.where(np.random.rand(sum(mask_emergencia)) <= probabilidade_cirurgia_geral,\n",
    "                                                     'Cirurgia Geral', df.loc[mask_emergencia, 'ESPECIALIDADE'])"
   ]
  },
  {
   "cell_type": "code",
   "execution_count": 27,
   "id": "d774a7c1",
   "metadata": {},
   "outputs": [],
   "source": [
    "probabilidade_obstericia = 0.3\n",
    "\n",
    "# Aplicando a lógica de probabilidade\n",
    "mask_sexo = df['SEXO'] == 'F'\n",
    "df.loc[mask_sexo, 'ESPECIALIDADE'] = np.where(np.random.rand(sum(mask_sexo)) <= probabilidade_obstericia,\n",
    "                                                     'Obstetricia', df.loc[mask_sexo, 'ESPECIALIDADE'])"
   ]
  },
  {
   "cell_type": "code",
   "execution_count": 28,
   "id": "5439eab6",
   "metadata": {},
   "outputs": [
    {
     "data": {
      "text/plain": [
       "Clinica Médica       4394\n",
       "Obstetricia          1343\n",
       "Ortopedia            1298\n",
       "Pediatria             791\n",
       "Cirurgia Geral        388\n",
       "Cardiologia           353\n",
       "Neurologia            320\n",
       "Gastroenterologia     265\n",
       "Nefrologia             64\n",
       "Name: ESPECIALIDADE, dtype: int64"
      ]
     },
     "execution_count": 28,
     "metadata": {},
     "output_type": "execute_result"
    }
   ],
   "source": [
    "df['ESPECIALIDADE'].value_counts()"
   ]
  },
  {
   "cell_type": "code",
   "execution_count": 29,
   "id": "937e4026",
   "metadata": {},
   "outputs": [],
   "source": [
    "selected_columns = ['PACIENTE',\n",
    "                    'DTHR_ATENDIMENTO',\n",
    "                    'SEXO',\n",
    "                    'IDADE',\n",
    "                    'SATISFACAO',\n",
    "                    'TEMPO_ESPERA',\n",
    "                    'CLASSIFICACAO',\n",
    "                    'TIPO_ADMISSAO',\n",
    "                    'DESFECHO',\n",
    "                    'ESPECIALIDADE']"
   ]
  },
  {
   "cell_type": "code",
   "execution_count": 30,
   "id": "40b342fb",
   "metadata": {},
   "outputs": [],
   "source": [
    "df = df[selected_columns]"
   ]
  },
  {
   "cell_type": "code",
   "execution_count": 32,
   "id": "6fc04543",
   "metadata": {},
   "outputs": [],
   "source": [
    "df.to_csv('atendimentos_emergencia.csv', index=False)"
   ]
  }
 ],
 "metadata": {
  "hide_input": false,
  "kernelspec": {
   "display_name": "Python 3 (ipykernel)",
   "language": "python",
   "name": "python3"
  },
  "language_info": {
   "codemirror_mode": {
    "name": "ipython",
    "version": 3
   },
   "file_extension": ".py",
   "mimetype": "text/x-python",
   "name": "python",
   "nbconvert_exporter": "python",
   "pygments_lexer": "ipython3",
   "version": "3.11.4"
  }
 },
 "nbformat": 4,
 "nbformat_minor": 5
}
